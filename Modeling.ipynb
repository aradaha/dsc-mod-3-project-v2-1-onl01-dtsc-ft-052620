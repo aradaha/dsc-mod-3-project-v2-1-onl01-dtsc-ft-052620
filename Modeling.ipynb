{
 "cells": [
  {
   "cell_type": "markdown",
   "metadata": {},
   "source": [
    "## Final Project Submission\n",
    "\n",
    "Please fill out:\n",
    "* Student name: Reuben Hough\n",
    "* Student pace: full time\n",
    "* Scheduled project review date/time: \n",
    "* Instructor name: Ahbineet Kulkarni\n",
    "* Blog post URL:\n"
   ]
  },
  {
   "cell_type": "code",
   "execution_count": 1,
   "metadata": {
    "scrolled": false
   },
   "outputs": [],
   "source": [
    "import warnings\n",
    "import pandas as pd\n",
    "import sys\n",
    "import os\n",
    "import numpy as np\n",
    "import seaborn as sns\n",
    "import matplotlib.pyplot as plt\n",
    "from sklearn import metrics\n",
    "from sklearn.neighbors import KNeighborsClassifier\n",
    "from sklearn.model_selection import train_test_split, GridSearchCV\n",
    "from sklearn.ensemble import RandomForestClassifier\n",
    "from sklearn.ensemble import AdaBoostClassifier, GradientBoostingClassifier\n",
    "from sklearn.metrics import classification_report, confusion_matrix\n",
    "from sklearn.metrics import roc_curve, auc\n",
    "from sklearn.preprocessing import LabelEncoder, scale, label_binarize, normalize, StandardScaler\n",
    "from sklearn.tree import DecisionTreeClassifier\n",
    "from sklearn.linear_model import RidgeClassifier\n",
    "from sklearn.pipeline import Pipeline\n",
    "from sklearn.multiclass import OneVsRestClassifier\n",
    "from sklearn.svm import LinearSVC\n",
    "from xgboost import XGBClassifier\n",
    "from numpy import random\n",
    "from contextlib import redirect_stdout\n",
    "from io import StringIO\n",
    "from time import time"
   ]
  },
  {
   "cell_type": "code",
   "execution_count": 2,
   "metadata": {},
   "outputs": [],
   "source": [
    "# warnings.filterwarnings('ignore')"
   ]
  },
  {
   "cell_type": "code",
   "execution_count": 3,
   "metadata": {},
   "outputs": [],
   "source": [
    "train = pd.read_csv('cleaneddf.csv', low_memory=False)\n",
    "test = pd.read_csv('cleantest.csv', low_memory=False)"
   ]
  },
  {
   "cell_type": "code",
   "execution_count": 4,
   "metadata": {},
   "outputs": [],
   "source": [
    "def display_all(df):\n",
    "    with pd.option_context('display.max_rows', 1000):\n",
    "        with pd.option_context('display.max_columns', 1000):\n",
    "            display(df)"
   ]
  },
  {
   "cell_type": "code",
   "execution_count": 5,
   "metadata": {
    "scrolled": false
   },
   "outputs": [
    {
     "data": {
      "text/html": [
       "<div>\n",
       "<style scoped>\n",
       "    .dataframe tbody tr th:only-of-type {\n",
       "        vertical-align: middle;\n",
       "    }\n",
       "\n",
       "    .dataframe tbody tr th {\n",
       "        vertical-align: top;\n",
       "    }\n",
       "\n",
       "    .dataframe thead th {\n",
       "        text-align: right;\n",
       "    }\n",
       "</style>\n",
       "<table border=\"1\" class=\"dataframe\">\n",
       "  <thead>\n",
       "    <tr style=\"text-align: right;\">\n",
       "      <th></th>\n",
       "      <th>id</th>\n",
       "      <th>gps_height</th>\n",
       "      <th>longitude</th>\n",
       "      <th>latitude</th>\n",
       "      <th>basin</th>\n",
       "      <th>region_code</th>\n",
       "      <th>lga</th>\n",
       "      <th>population</th>\n",
       "      <th>public_meeting</th>\n",
       "      <th>permit</th>\n",
       "      <th>extraction_type_class</th>\n",
       "      <th>management</th>\n",
       "      <th>payment</th>\n",
       "      <th>water_quality</th>\n",
       "      <th>quantity</th>\n",
       "      <th>source</th>\n",
       "      <th>source_class</th>\n",
       "      <th>waterpoint_type</th>\n",
       "      <th>status_group</th>\n",
       "      <th>year</th>\n",
       "      <th>month</th>\n",
       "      <th>selfbuilt</th>\n",
       "      <th>NaN Counts</th>\n",
       "    </tr>\n",
       "  </thead>\n",
       "  <tbody>\n",
       "    <tr>\n",
       "      <td>0</td>\n",
       "      <td>69572</td>\n",
       "      <td>1390.0</td>\n",
       "      <td>34.938093</td>\n",
       "      <td>-9.856322</td>\n",
       "      <td>1</td>\n",
       "      <td>10</td>\n",
       "      <td>51</td>\n",
       "      <td>109</td>\n",
       "      <td>1</td>\n",
       "      <td>0</td>\n",
       "      <td>0</td>\n",
       "      <td>7</td>\n",
       "      <td>2</td>\n",
       "      <td>5</td>\n",
       "      <td>1</td>\n",
       "      <td>8</td>\n",
       "      <td>0</td>\n",
       "      <td>1</td>\n",
       "      <td>functional</td>\n",
       "      <td>2011</td>\n",
       "      <td>3</td>\n",
       "      <td>0</td>\n",
       "      <td>25</td>\n",
       "    </tr>\n",
       "    <tr>\n",
       "      <td>1</td>\n",
       "      <td>8776</td>\n",
       "      <td>1399.0</td>\n",
       "      <td>34.698766</td>\n",
       "      <td>-2.147466</td>\n",
       "      <td>4</td>\n",
       "      <td>19</td>\n",
       "      <td>103</td>\n",
       "      <td>280</td>\n",
       "      <td>1</td>\n",
       "      <td>1</td>\n",
       "      <td>0</td>\n",
       "      <td>11</td>\n",
       "      <td>0</td>\n",
       "      <td>5</td>\n",
       "      <td>2</td>\n",
       "      <td>5</td>\n",
       "      <td>1</td>\n",
       "      <td>1</td>\n",
       "      <td>functional</td>\n",
       "      <td>2013</td>\n",
       "      <td>3</td>\n",
       "      <td>0</td>\n",
       "      <td>24</td>\n",
       "    </tr>\n",
       "    <tr>\n",
       "      <td>2</td>\n",
       "      <td>34310</td>\n",
       "      <td>686.0</td>\n",
       "      <td>37.460664</td>\n",
       "      <td>-3.821329</td>\n",
       "      <td>5</td>\n",
       "      <td>20</td>\n",
       "      <td>108</td>\n",
       "      <td>250</td>\n",
       "      <td>1</td>\n",
       "      <td>1</td>\n",
       "      <td>0</td>\n",
       "      <td>7</td>\n",
       "      <td>4</td>\n",
       "      <td>5</td>\n",
       "      <td>1</td>\n",
       "      <td>0</td>\n",
       "      <td>1</td>\n",
       "      <td>2</td>\n",
       "      <td>functional</td>\n",
       "      <td>2013</td>\n",
       "      <td>2</td>\n",
       "      <td>1</td>\n",
       "      <td>25</td>\n",
       "    </tr>\n",
       "    <tr>\n",
       "      <td>3</td>\n",
       "      <td>67743</td>\n",
       "      <td>263.0</td>\n",
       "      <td>38.486161</td>\n",
       "      <td>-11.155298</td>\n",
       "      <td>7</td>\n",
       "      <td>24</td>\n",
       "      <td>87</td>\n",
       "      <td>58</td>\n",
       "      <td>1</td>\n",
       "      <td>1</td>\n",
       "      <td>5</td>\n",
       "      <td>7</td>\n",
       "      <td>0</td>\n",
       "      <td>5</td>\n",
       "      <td>0</td>\n",
       "      <td>3</td>\n",
       "      <td>0</td>\n",
       "      <td>2</td>\n",
       "      <td>non functional</td>\n",
       "      <td>2013</td>\n",
       "      <td>1</td>\n",
       "      <td>0</td>\n",
       "      <td>25</td>\n",
       "    </tr>\n",
       "    <tr>\n",
       "      <td>4</td>\n",
       "      <td>19728</td>\n",
       "      <td>1317.0</td>\n",
       "      <td>31.130847</td>\n",
       "      <td>-1.825359</td>\n",
       "      <td>4</td>\n",
       "      <td>17</td>\n",
       "      <td>26</td>\n",
       "      <td>0</td>\n",
       "      <td>1</td>\n",
       "      <td>1</td>\n",
       "      <td>0</td>\n",
       "      <td>1</td>\n",
       "      <td>0</td>\n",
       "      <td>5</td>\n",
       "      <td>3</td>\n",
       "      <td>5</td>\n",
       "      <td>1</td>\n",
       "      <td>1</td>\n",
       "      <td>functional</td>\n",
       "      <td>2011</td>\n",
       "      <td>7</td>\n",
       "      <td>1</td>\n",
       "      <td>24</td>\n",
       "    </tr>\n",
       "  </tbody>\n",
       "</table>\n",
       "</div>"
      ],
      "text/plain": [
       "      id  gps_height  longitude   latitude  basin  region_code  lga  \\\n",
       "0  69572      1390.0  34.938093  -9.856322      1           10   51   \n",
       "1   8776      1399.0  34.698766  -2.147466      4           19  103   \n",
       "2  34310       686.0  37.460664  -3.821329      5           20  108   \n",
       "3  67743       263.0  38.486161 -11.155298      7           24   87   \n",
       "4  19728      1317.0  31.130847  -1.825359      4           17   26   \n",
       "\n",
       "   population  public_meeting  permit  extraction_type_class  management  \\\n",
       "0         109               1       0                      0           7   \n",
       "1         280               1       1                      0          11   \n",
       "2         250               1       1                      0           7   \n",
       "3          58               1       1                      5           7   \n",
       "4           0               1       1                      0           1   \n",
       "\n",
       "   payment  water_quality  quantity  source  source_class  waterpoint_type  \\\n",
       "0        2              5         1       8             0                1   \n",
       "1        0              5         2       5             1                1   \n",
       "2        4              5         1       0             1                2   \n",
       "3        0              5         0       3             0                2   \n",
       "4        0              5         3       5             1                1   \n",
       "\n",
       "     status_group  year  month  selfbuilt  NaN Counts  \n",
       "0      functional  2011      3          0          25  \n",
       "1      functional  2013      3          0          24  \n",
       "2      functional  2013      2          1          25  \n",
       "3  non functional  2013      1          0          25  \n",
       "4      functional  2011      7          1          24  "
      ]
     },
     "metadata": {},
     "output_type": "display_data"
    }
   ],
   "source": [
    "display_all(train.head())"
   ]
  },
  {
   "cell_type": "code",
   "execution_count": 6,
   "metadata": {},
   "outputs": [
    {
     "data": {
      "text/plain": [
       "functional                 32259\n",
       "non functional             22824\n",
       "functional needs repair     4317\n",
       "Name: status_group, dtype: int64"
      ]
     },
     "execution_count": 6,
     "metadata": {},
     "output_type": "execute_result"
    }
   ],
   "source": [
    "train['status_group'].value_counts()"
   ]
  },
  {
   "cell_type": "code",
   "execution_count": 7,
   "metadata": {},
   "outputs": [],
   "source": [
    "# I'll now encode the status group, making sure to note\n",
    "# which number refers to which status\n",
    "le = LabelEncoder().fit(train['status_group'])\n",
    "train['status_group'] = le.transform(train['status_group'])"
   ]
  },
  {
   "cell_type": "code",
   "execution_count": 8,
   "metadata": {},
   "outputs": [],
   "source": [
    "y = train['status_group']\n",
    "X = train.drop(['status_group', 'id'], axis=1)"
   ]
  },
  {
   "cell_type": "markdown",
   "metadata": {},
   "source": [
    "It encoded \"functional\" as 0, \"functional needs repair\" as 1, and \"non functional\" as 2. Another useful way to encode the labels is by turning them into zeros and ones."
   ]
  },
  {
   "cell_type": "code",
   "execution_count": 9,
   "metadata": {},
   "outputs": [],
   "source": [
    "Y = label_binarize(y, classes=[0, 1, 2])"
   ]
  },
  {
   "cell_type": "code",
   "execution_count": 10,
   "metadata": {},
   "outputs": [
    {
     "data": {
      "text/plain": [
       "4.0"
      ]
     },
     "execution_count": 10,
     "metadata": {},
     "output_type": "execute_result"
    }
   ],
   "source": [
    "# There are four times as many entries in the train set, \n",
    "# so I'll use .20 when testing classification\n",
    "train.shape[0]/test.shape[0]"
   ]
  },
  {
   "cell_type": "code",
   "execution_count": 11,
   "metadata": {},
   "outputs": [],
   "source": [
    "# Doing a test/train split on the training data\n",
    "x_train, x_test, y_train, y_test = train_test_split(X, y, test_size=0.20, random_state=8)"
   ]
  },
  {
   "cell_type": "code",
   "execution_count": 12,
   "metadata": {},
   "outputs": [],
   "source": [
    "# and a second time with binary labels\n",
    "X_train, X_test, Y_train, Y_test = train_test_split(X, Y, test_size=0.20,random_state=8)"
   ]
  },
  {
   "cell_type": "code",
   "execution_count": null,
   "metadata": {},
   "outputs": [],
   "source": []
  },
  {
   "cell_type": "code",
   "execution_count": null,
   "metadata": {},
   "outputs": [],
   "source": []
  },
  {
   "cell_type": "code",
   "execution_count": null,
   "metadata": {},
   "outputs": [],
   "source": []
  },
  {
   "cell_type": "code",
   "execution_count": null,
   "metadata": {},
   "outputs": [],
   "source": []
  },
  {
   "cell_type": "code",
   "execution_count": null,
   "metadata": {},
   "outputs": [],
   "source": []
  },
  {
   "cell_type": "code",
   "execution_count": null,
   "metadata": {},
   "outputs": [],
   "source": []
  },
  {
   "cell_type": "code",
   "execution_count": null,
   "metadata": {},
   "outputs": [],
   "source": []
  },
  {
   "cell_type": "code",
   "execution_count": null,
   "metadata": {},
   "outputs": [],
   "source": []
  },
  {
   "cell_type": "code",
   "execution_count": null,
   "metadata": {},
   "outputs": [],
   "source": []
  },
  {
   "cell_type": "code",
   "execution_count": null,
   "metadata": {},
   "outputs": [],
   "source": []
  },
  {
   "cell_type": "code",
   "execution_count": null,
   "metadata": {},
   "outputs": [],
   "source": []
  },
  {
   "cell_type": "code",
   "execution_count": null,
   "metadata": {},
   "outputs": [],
   "source": []
  },
  {
   "cell_type": "code",
   "execution_count": null,
   "metadata": {},
   "outputs": [],
   "source": []
  },
  {
   "cell_type": "code",
   "execution_count": 13,
   "metadata": {},
   "outputs": [],
   "source": [
    "def statistics(clf):\n",
    "    names = [\"functional\", \"functional needs repair\", \"non functional\"]\n",
    "    print('_' * 78)\n",
    "    print(\"Training: \")\n",
    "    print(clf)\n",
    "    t0 = time()\n",
    "    clf.fit(x_train, y_train)\n",
    "    train_time = time() - t0\n",
    "    print(\"train time: %0.3fs\" % train_time)\n",
    "\n",
    "    t0 = time()\n",
    "    pred = clf.predict(X_test)\n",
    "    test_time = time() - t0\n",
    "    print(\"test time:  %0.3fs\" % test_time)\n",
    "\n",
    "    score = metrics.accuracy_score(y_test, pred)\n",
    "    print(\"accuracy:   %0.3f\" % score)\n",
    "\n",
    "    matrix = metrics.confusion_matrix(y_test, pred)\n",
    "    print()\n",
    "    clf_descr = str(clf).split('(')[0]\n",
    "    return clf_descr, score, train_time, test_time, matrix"
   ]
  },
  {
   "cell_type": "code",
   "execution_count": 14,
   "metadata": {
    "scrolled": false
   },
   "outputs": [
    {
     "name": "stdout",
     "output_type": "stream",
     "text": [
      "Ridge Classifier\n",
      "______________________________________________________________________________\n",
      "Training: \n",
      "RidgeClassifier(alpha=1.0, class_weight=None, copy_X=True, fit_intercept=True,\n",
      "                max_iter=None, normalize=False, random_state=None,\n",
      "                solver='auto', tol=0.001)\n",
      "train time: 0.032s\n",
      "test time:  0.003s\n",
      "accuracy:   0.615\n",
      "\n",
      "XGBoost\n",
      "______________________________________________________________________________\n",
      "Training: \n",
      "XGBClassifier(base_score=0.5, booster='gbtree', colsample_bylevel=1,\n",
      "              colsample_bynode=1, colsample_bytree=1, gamma=0,\n",
      "              learning_rate=0.1, max_delta_step=0, max_depth=3,\n",
      "              min_child_weight=1, missing=None, n_estimators=100, n_jobs=1,\n",
      "              nthread=None, objective='binary:logistic', random_state=0,\n",
      "              reg_alpha=0, reg_lambda=1, scale_pos_weight=1, seed=None,\n",
      "              silent=None, subsample=1, verbosity=1)\n",
      "train time: 6.305s\n",
      "test time:  0.082s\n",
      "accuracy:   0.741\n",
      "\n",
      "K Nearest Neighbors\n",
      "______________________________________________________________________________\n",
      "Training: \n",
      "KNeighborsClassifier(algorithm='auto', leaf_size=30, metric='minkowski',\n",
      "                     metric_params=None, n_jobs=None, n_neighbors=5, p=2,\n",
      "                     weights='uniform')\n",
      "train time: 0.074s\n",
      "test time:  0.512s\n",
      "accuracy:   0.673\n",
      "\n",
      "Random Forest\n",
      "______________________________________________________________________________\n",
      "Training: \n",
      "RandomForestClassifier(bootstrap=True, class_weight=None, criterion='gini',\n",
      "                       max_depth=None, max_features='auto', max_leaf_nodes=None,\n",
      "                       min_impurity_decrease=0.0, min_impurity_split=None,\n",
      "                       min_samples_leaf=1, min_samples_split=2,\n",
      "                       min_weight_fraction_leaf=0.0, n_estimators='warn',\n",
      "                       n_jobs=None, oob_score=False, random_state=None,\n",
      "                       verbose=0, warm_start=False)\n"
     ]
    },
    {
     "name": "stderr",
     "output_type": "stream",
     "text": [
      "C:\\Users\\reube\\.conda\\envs\\learn-env\\lib\\site-packages\\sklearn\\ensemble\\forest.py:245: FutureWarning: The default value of n_estimators will change from 10 in version 0.20 to 100 in 0.22.\n",
      "  \"10 in version 0.20 to 100 in 0.22.\", FutureWarning)\n"
     ]
    },
    {
     "name": "stdout",
     "output_type": "stream",
     "text": [
      "train time: 0.671s\n",
      "test time:  0.031s\n",
      "accuracy:   0.791\n",
      "\n",
      "AdaBoost Classifier\n",
      "______________________________________________________________________________\n",
      "Training: \n",
      "AdaBoostClassifier(algorithm='SAMME.R', base_estimator=None, learning_rate=1.0,\n",
      "                   n_estimators=50, random_state=None)\n",
      "train time: 2.509s\n",
      "test time:  0.092s\n",
      "accuracy:   0.719\n",
      "\n",
      "Gradient Boosting Classifier\n",
      "______________________________________________________________________________\n",
      "Training: \n",
      "GradientBoostingClassifier(criterion='friedman_mse', init=None,\n",
      "                           learning_rate=0.1, loss='deviance', max_depth=3,\n",
      "                           max_features=None, max_leaf_nodes=None,\n",
      "                           min_impurity_decrease=0.0, min_impurity_split=None,\n",
      "                           min_samples_leaf=1, min_samples_split=2,\n",
      "                           min_weight_fraction_leaf=0.0, n_estimators=100,\n",
      "                           n_iter_no_change=None, presort='auto',\n",
      "                           random_state=None, subsample=1.0, tol=0.0001,\n",
      "                           validation_fraction=0.1, verbose=0,\n",
      "                           warm_start=False)\n",
      "train time: 15.458s\n",
      "test time:  0.047s\n",
      "accuracy:   0.745\n",
      "\n"
     ]
    }
   ],
   "source": [
    "results = []\n",
    "\n",
    "for clf, name in [(RidgeClassifier(), \"Ridge Classifier\"),(XGBClassifier(), \"XGBoost\"),\n",
    "                  (KNeighborsClassifier(), \"K Nearest Neighbors\"),\n",
    "                  (RandomForestClassifier(), \"Random Forest\"),\n",
    "                  (AdaBoostClassifier(), \"AdaBoost Classifier\"),\n",
    "                  (GradientBoostingClassifier(), \"Gradient Boosting Classifier\")]:\n",
    "    print(name)\n",
    "    results.append(statistics(clf))"
   ]
  },
  {
   "cell_type": "code",
   "execution_count": 15,
   "metadata": {},
   "outputs": [
    {
     "data": {
      "text/plain": [
       "[('RidgeClassifier',\n",
       "  0.6146464646464647,\n",
       "  0.032001495361328125,\n",
       "  0.00299835205078125,\n",
       "  array([[5140,    0, 1329],\n",
       "         [ 703,    0,  169],\n",
       "         [2377,    0, 2162]], dtype=int64)),\n",
       " ('XGBClassifier',\n",
       "  0.7410774410774411,\n",
       "  6.305476188659668,\n",
       "  0.08200621604919434,\n",
       "  array([[6048,   16,  405],\n",
       "         [ 705,   70,   97],\n",
       "         [1840,   13, 2686]], dtype=int64)),\n",
       " ('KNeighborsClassifier',\n",
       "  0.6734848484848485,\n",
       "  0.074005126953125,\n",
       "  0.5120401382446289,\n",
       "  array([[5224,  179, 1066],\n",
       "         [ 543,  184,  145],\n",
       "         [1849,   97, 2593]], dtype=int64)),\n",
       " ('RandomForestClassifier',\n",
       "  0.7905723905723906,\n",
       "  0.6710505485534668,\n",
       "  0.031003236770629883,\n",
       "  array([[5651,  208,  610],\n",
       "         [ 463,  282,  127],\n",
       "         [ 985,   95, 3459]], dtype=int64)),\n",
       " ('AdaBoostClassifier',\n",
       "  0.7193602693602693,\n",
       "  2.509190559387207,\n",
       "  0.09200596809387207,\n",
       "  array([[5924,   53,  492],\n",
       "         [ 702,   65,  105],\n",
       "         [1952,   30, 2557]], dtype=int64)),\n",
       " ('GradientBoostingClassifier',\n",
       "  0.7451178451178451,\n",
       "  15.458164930343628,\n",
       "  0.04700350761413574,\n",
       "  array([[5997,   46,  426],\n",
       "         [ 663,  110,   99],\n",
       "         [1766,   28, 2745]], dtype=int64))]"
      ]
     },
     "execution_count": 15,
     "metadata": {},
     "output_type": "execute_result"
    }
   ],
   "source": [
    "results"
   ]
  },
  {
   "cell_type": "code",
   "execution_count": 16,
   "metadata": {},
   "outputs": [],
   "source": [
    "results = [[x[i] for x in results] for i in range(5)]"
   ]
  },
  {
   "cell_type": "code",
   "execution_count": 17,
   "metadata": {},
   "outputs": [
    {
     "data": {
      "text/plain": [
       "[['RidgeClassifier',\n",
       "  'XGBClassifier',\n",
       "  'KNeighborsClassifier',\n",
       "  'RandomForestClassifier',\n",
       "  'AdaBoostClassifier',\n",
       "  'GradientBoostingClassifier'],\n",
       " [0.6146464646464647,\n",
       "  0.7410774410774411,\n",
       "  0.6734848484848485,\n",
       "  0.7905723905723906,\n",
       "  0.7193602693602693,\n",
       "  0.7451178451178451],\n",
       " [0.032001495361328125,\n",
       "  6.305476188659668,\n",
       "  0.074005126953125,\n",
       "  0.6710505485534668,\n",
       "  2.509190559387207,\n",
       "  15.458164930343628],\n",
       " [0.00299835205078125,\n",
       "  0.08200621604919434,\n",
       "  0.5120401382446289,\n",
       "  0.031003236770629883,\n",
       "  0.09200596809387207,\n",
       "  0.04700350761413574],\n",
       " [array([[5140,    0, 1329],\n",
       "         [ 703,    0,  169],\n",
       "         [2377,    0, 2162]], dtype=int64), array([[6048,   16,  405],\n",
       "         [ 705,   70,   97],\n",
       "         [1840,   13, 2686]], dtype=int64), array([[5224,  179, 1066],\n",
       "         [ 543,  184,  145],\n",
       "         [1849,   97, 2593]], dtype=int64), array([[5651,  208,  610],\n",
       "         [ 463,  282,  127],\n",
       "         [ 985,   95, 3459]], dtype=int64), array([[5924,   53,  492],\n",
       "         [ 702,   65,  105],\n",
       "         [1952,   30, 2557]], dtype=int64), array([[5997,   46,  426],\n",
       "         [ 663,  110,   99],\n",
       "         [1766,   28, 2745]], dtype=int64)]]"
      ]
     },
     "execution_count": 17,
     "metadata": {},
     "output_type": "execute_result"
    }
   ],
   "source": [
    "results"
   ]
  },
  {
   "cell_type": "code",
   "execution_count": 18,
   "metadata": {},
   "outputs": [],
   "source": [
    "indices = np.arange(len(results[1]))\n",
    "\n",
    "# results = [[x[i] for x in results] for i in range(4)]"
   ]
  },
  {
   "cell_type": "code",
   "execution_count": 19,
   "metadata": {},
   "outputs": [],
   "source": [
    "clf_names, score, train_time, test_time = [[x for x in results[i]] for i in range(4)]"
   ]
  },
  {
   "cell_type": "code",
   "execution_count": 20,
   "metadata": {},
   "outputs": [
    {
     "data": {
      "text/plain": [
       "(['RidgeClassifier',\n",
       "  'XGBClassifier',\n",
       "  'KNeighborsClassifier',\n",
       "  'RandomForestClassifier',\n",
       "  'AdaBoostClassifier',\n",
       "  'GradientBoostingClassifier'],\n",
       " [0.6146464646464647,\n",
       "  0.7410774410774411,\n",
       "  0.6734848484848485,\n",
       "  0.7905723905723906,\n",
       "  0.7193602693602693,\n",
       "  0.7451178451178451],\n",
       " [0.032001495361328125,\n",
       "  6.305476188659668,\n",
       "  0.074005126953125,\n",
       "  0.6710505485534668,\n",
       "  2.509190559387207,\n",
       "  15.458164930343628],\n",
       " [0.00299835205078125,\n",
       "  0.08200621604919434,\n",
       "  0.5120401382446289,\n",
       "  0.031003236770629883,\n",
       "  0.09200596809387207,\n",
       "  0.04700350761413574])"
      ]
     },
     "execution_count": 20,
     "metadata": {},
     "output_type": "execute_result"
    }
   ],
   "source": [
    "clf_names, score, train_time, test_time"
   ]
  },
  {
   "cell_type": "code",
   "execution_count": 21,
   "metadata": {
    "scrolled": false
   },
   "outputs": [
    {
     "data": {
      "text/plain": [
       "['RidgeClassifier',\n",
       " 'XGBClassifier',\n",
       " 'KNeighborsClassifier',\n",
       " 'RandomForestClassifier',\n",
       " 'AdaBoostClassifier',\n",
       " 'GradientBoostingClassifier']"
      ]
     },
     "execution_count": 21,
     "metadata": {},
     "output_type": "execute_result"
    }
   ],
   "source": [
    "[x for x in results[0]]"
   ]
  },
  {
   "cell_type": "code",
   "execution_count": 22,
   "metadata": {
    "scrolled": true
   },
   "outputs": [
    {
     "data": {
      "text/plain": [
       "[['RidgeClassifier',\n",
       "  'XGBClassifier',\n",
       "  'KNeighborsClassifier',\n",
       "  'RandomForestClassifier',\n",
       "  'AdaBoostClassifier',\n",
       "  'GradientBoostingClassifier'],\n",
       " [0.6146464646464647,\n",
       "  0.7410774410774411,\n",
       "  0.6734848484848485,\n",
       "  0.7905723905723906,\n",
       "  0.7193602693602693,\n",
       "  0.7451178451178451],\n",
       " [0.032001495361328125,\n",
       "  6.305476188659668,\n",
       "  0.074005126953125,\n",
       "  0.6710505485534668,\n",
       "  2.509190559387207,\n",
       "  15.458164930343628],\n",
       " [0.00299835205078125,\n",
       "  0.08200621604919434,\n",
       "  0.5120401382446289,\n",
       "  0.031003236770629883,\n",
       "  0.09200596809387207,\n",
       "  0.04700350761413574],\n",
       " [array([[5140,    0, 1329],\n",
       "         [ 703,    0,  169],\n",
       "         [2377,    0, 2162]], dtype=int64), array([[6048,   16,  405],\n",
       "         [ 705,   70,   97],\n",
       "         [1840,   13, 2686]], dtype=int64), array([[5224,  179, 1066],\n",
       "         [ 543,  184,  145],\n",
       "         [1849,   97, 2593]], dtype=int64), array([[5651,  208,  610],\n",
       "         [ 463,  282,  127],\n",
       "         [ 985,   95, 3459]], dtype=int64), array([[5924,   53,  492],\n",
       "         [ 702,   65,  105],\n",
       "         [1952,   30, 2557]], dtype=int64), array([[5997,   46,  426],\n",
       "         [ 663,  110,   99],\n",
       "         [1766,   28, 2745]], dtype=int64)]]"
      ]
     },
     "execution_count": 22,
     "metadata": {},
     "output_type": "execute_result"
    }
   ],
   "source": [
    "results"
   ]
  },
  {
   "cell_type": "code",
   "execution_count": 23,
   "metadata": {},
   "outputs": [],
   "source": [
    "train_time = np.array(train_time) / np.max(train_time)\n",
    "test_time = np.array(test_time) / np.max(test_time)"
   ]
  },
  {
   "cell_type": "code",
   "execution_count": 24,
   "metadata": {},
   "outputs": [
    {
     "data": {
      "text/plain": [
       "6"
      ]
     },
     "execution_count": 24,
     "metadata": {},
     "output_type": "execute_result"
    }
   ],
   "source": [
    "len(train_time)\n"
   ]
  },
  {
   "cell_type": "code",
   "execution_count": 25,
   "metadata": {},
   "outputs": [
    {
     "data": {
      "text/plain": [
       "6"
      ]
     },
     "execution_count": 25,
     "metadata": {},
     "output_type": "execute_result"
    }
   ],
   "source": [
    "len(indices)"
   ]
  },
  {
   "cell_type": "code",
   "execution_count": 26,
   "metadata": {},
   "outputs": [
    {
     "data": {
      "image/png": "[encoded data removed]",
      "text/plain": [
       "<Figure size 864x576 with 1 Axes>"
      ]
     },
     "metadata": {
      "needs_background": "light"
     },
     "output_type": "display_data"
    }
   ],
   "source": [
    "plt.figure(figsize=(12, 8))\n",
    "plt.title(\"Score\")\n",
    "plt.barh(indices, score, .2, label=\"score\", color='navy')\n",
    "plt.barh(indices + .3, train_time, .2, label=\"training time\",color='c')\n",
    "plt.barh(indices + .6, test_time, .2, label=\"test time\", color='darkorange')\n",
    "plt.yticks(())\n",
    "plt.legend(loc='best')\n",
    "plt.subplots_adjust(left=.25)\n",
    "plt.subplots_adjust(top=.95)\n",
    "plt.subplots_adjust(bottom=.05)\n",
    "\n",
    "for a, b in zip(indices, clf_names):\n",
    "    plt.text(-.3, a, b)\n",
    "\n",
    "plt.show()"
   ]
  },
  {
   "cell_type": "code",
   "execution_count": 27,
   "metadata": {},
   "outputs": [
    {
     "ename": "NameError",
     "evalue": "name 'yhatGS' is not defined",
     "output_type": "error",
     "traceback": [
      "\u001b[1;31m---------------------------------------------------------------------------\u001b[0m",
      "\u001b[1;31mNameError\u001b[0m                                 Traceback (most recent call last)",
      "\u001b[1;32m<ipython-input-27-86d806b24c3a>\u001b[0m in \u001b[0;36m<module>\u001b[1;34m\u001b[0m\n\u001b[0;32m      1\u001b[0m \u001b[1;31m# Compute confusion matrix\u001b[0m\u001b[1;33m\u001b[0m\u001b[1;33m\u001b[0m\u001b[1;33m\u001b[0m\u001b[0m\n\u001b[1;32m----> 2\u001b[1;33m \u001b[0mcnf_matrix\u001b[0m \u001b[1;33m=\u001b[0m \u001b[0mconfusion_matrix\u001b[0m\u001b[1;33m(\u001b[0m\u001b[0my_test\u001b[0m\u001b[1;33m,\u001b[0m \u001b[0myhatGS\u001b[0m\u001b[1;33m)\u001b[0m\u001b[1;33m\u001b[0m\u001b[1;33m\u001b[0m\u001b[0m\n\u001b[0m\u001b[0;32m      3\u001b[0m \u001b[0mnp\u001b[0m\u001b[1;33m.\u001b[0m\u001b[0mset_printoptions\u001b[0m\u001b[1;33m(\u001b[0m\u001b[0mprecision\u001b[0m\u001b[1;33m=\u001b[0m\u001b[1;36m2\u001b[0m\u001b[1;33m)\u001b[0m\u001b[1;33m\u001b[0m\u001b[1;33m\u001b[0m\u001b[0m\n\u001b[0;32m      4\u001b[0m \u001b[1;33m\u001b[0m\u001b[0m\n\u001b[0;32m      5\u001b[0m \u001b[0mprint\u001b[0m \u001b[1;33m(\u001b[0m\u001b[0mclassification_report\u001b[0m\u001b[1;33m(\u001b[0m\u001b[0my_test\u001b[0m\u001b[1;33m,\u001b[0m \u001b[0myhatGS\u001b[0m\u001b[1;33m)\u001b[0m\u001b[1;33m)\u001b[0m\u001b[1;33m\u001b[0m\u001b[1;33m\u001b[0m\u001b[0m\n",
      "\u001b[1;31mNameError\u001b[0m: name 'yhatGS' is not defined"
     ]
    }
   ],
   "source": [
    "# Compute confusion matrix\n",
    "cnf_matrix = confusion_matrix(y_test, yhatGS)\n",
    "np.set_printoptions(precision=2)\n",
    "\n",
    "print (classification_report(y_test, yhatGS))\n",
    "\n",
    "# Plot non-normalized confusion matrix\n",
    "plt.figure()\n",
    "plot_confusion_matrix(cnf_matrix, classes=['Functional',\n",
    "                                           'Functional needs repair', \n",
    "                                           'Non functional'],\n",
    "                                            normalize= False,\n",
    "                                            title='Confusion matrix')"
   ]
  }
 ],
 "metadata": {
  "kernelspec": {
   "display_name": "Python 3",
   "language": "python",
   "name": "python3"
  },
  "language_info": {
   "codemirror_mode": {
    "name": "ipython",
    "version": 3
   },
   "file_extension": ".py",
   "mimetype": "text/x-python",
   "name": "python",
   "nbconvert_exporter": "python",
   "pygments_lexer": "ipython3",
   "version": "3.6.9"
  },
  "toc": {
   "base_numbering": 1,
   "nav_menu": {},
   "number_sections": true,
   "sideBar": true,
   "skip_h1_title": false,
   "title_cell": "Table of Contents",
   "title_sidebar": "Contents",
   "toc_cell": false,
   "toc_position": {},
   "toc_section_display": true,
   "toc_window_display": false
  }
 },
 "nbformat": 4,
 "nbformat_minor": 2
}
